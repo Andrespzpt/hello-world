{
  "nbformat": 4,
  "nbformat_minor": 0,
  "metadata": {
    "colab": {
      "provenance": [],
      "mount_file_id": "1e95AWKl7bqlQwjDUUPIv4tJhau_GjV6a",
      "authorship_tag": "ABX9TyOuBHcj9B+xJISwSkbkEEV2",
      "include_colab_link": true
    },
    "kernelspec": {
      "name": "python3",
      "display_name": "Python 3"
    },
    "language_info": {
      "name": "python"
    }
  },
  "cells": [
    {
      "cell_type": "markdown",
      "metadata": {
        "id": "view-in-github",
        "colab_type": "text"
      },
      "source": [
        "<a href=\"https://colab.research.google.com/github/Andrespzpt/hello-world/blob/main/N%C3%BAmeroaletras.ipynb\" target=\"_parent\"><img src=\"https://colab.research.google.com/assets/colab-badge.svg\" alt=\"Open In Colab\"/></a>"
      ]
    },
    {
      "cell_type": "code",
      "source": [
        "!pip install num2words"
      ],
      "metadata": {
        "colab": {
          "base_uri": "https://localhost:8080/"
        },
        "id": "RXYTP-_XXtUI",
        "outputId": "276743a2-46ff-496d-a2a0-4c2669b1930f"
      },
      "execution_count": null,
      "outputs": [
        {
          "output_type": "stream",
          "name": "stdout",
          "text": [
            "Collecting num2words\n",
            "  Downloading num2words-0.5.13-py3-none-any.whl.metadata (12 kB)\n",
            "Collecting docopt>=0.6.2 (from num2words)\n",
            "  Downloading docopt-0.6.2.tar.gz (25 kB)\n",
            "  Preparing metadata (setup.py) ... \u001b[?25l\u001b[?25hdone\n",
            "Downloading num2words-0.5.13-py3-none-any.whl (143 kB)\n",
            "\u001b[2K   \u001b[90m━━━━━━━━━━━━━━━━━━━━━━━━━━━━━━━━━━━━━━━━\u001b[0m \u001b[32m143.3/143.3 kB\u001b[0m \u001b[31m298.9 kB/s\u001b[0m eta \u001b[36m0:00:00\u001b[0m\n",
            "\u001b[?25hBuilding wheels for collected packages: docopt\n",
            "  Building wheel for docopt (setup.py) ... \u001b[?25l\u001b[?25hdone\n",
            "  Created wheel for docopt: filename=docopt-0.6.2-py2.py3-none-any.whl size=13706 sha256=1bc19553248d30cb244e4a8ac602aa8f87799bd5659662152a748fa3b62bf071\n",
            "  Stored in directory: /root/.cache/pip/wheels/fc/ab/d4/5da2067ac95b36618c629a5f93f809425700506f72c9732fac\n",
            "Successfully built docopt\n",
            "Installing collected packages: docopt, num2words\n",
            "Successfully installed docopt-0.6.2 num2words-0.5.13\n"
          ]
        }
      ]
    },
    {
      "cell_type": "code",
      "execution_count": null,
      "metadata": {
        "colab": {
          "base_uri": "https://localhost:8080/"
        },
        "id": "ROZVCsBXXpFf",
        "outputId": "a9c9f373-e834-414a-a116-a29d3f73e07f"
      },
      "outputs": [
        {
          "output_type": "stream",
          "name": "stdout",
          "text": [
            "El número 32130000 en texto y mayúsculas es: TREINTA Y DOS MILLONES CIENTO TREINTA MIL\n"
          ]
        }
      ],
      "source": [
        "def numero_a_texto_mayusculas(numero):\n",
        "  \"\"\"\n",
        "  Convierte un número a texto en mayúsculas.\n",
        "\n",
        "  Args:\n",
        "    numero: El número a convertir.\n",
        "\n",
        "  Returns:\n",
        "    El número convertido a texto en mayúsculas.\n",
        "  \"\"\"\n",
        "  import num2words  # Asegúrate de tener instalado num2words: !pip install num2words\n",
        "\n",
        "  texto = num2words.num2words(numero, lang='es')  # Convertir a texto en español\n",
        "  texto_mayusculas = texto.upper()  # Convertir a mayúsculas\n",
        "\n",
        "  return texto_mayusculas\n",
        "\n",
        "# Ejemplo de uso\n",
        "numero = 32130000\n",
        "texto_en_mayusculas = numero_a_texto_mayusculas(numero)\n",
        "print(f\"El número {numero} en texto y mayúsculas es: {texto_en_mayusculas}\")"
      ]
    },
    {
      "cell_type": "code",
      "source": [
        "numero = 625349358\n",
        "texto_en_mayusculas = numero_a_texto_mayusculas(numero)\n",
        "print(f\"{texto_en_mayusculas}\")"
      ],
      "metadata": {
        "colab": {
          "base_uri": "https://localhost:8080/"
        },
        "id": "-IMZ5tfwXsBe",
        "outputId": "449e016e-8b84-4c2d-fbc4-c9b70187092d"
      },
      "execution_count": null,
      "outputs": [
        {
          "output_type": "stream",
          "name": "stdout",
          "text": [
            "SEISCIENTOS VEINTICINCO MILLONES TRESCIENTOS CUARENTA Y NUEVE MIL TRESCIENTOS CINCUENTA Y OCHO\n"
          ]
        }
      ]
    }
  ]
}